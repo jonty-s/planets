{
  "nbformat": 4,
  "nbformat_minor": 0,
  "metadata": {
    "colab": {
      "provenance": [],
      "authorship_tag": "ABX9TyPi1Fr87iDcugyWxJPGJoBU",
      "include_colab_link": true
    },
    "kernelspec": {
      "name": "python3",
      "display_name": "Python 3"
    },
    "language_info": {
      "name": "python"
    }
  },
  "cells": [
    {
      "cell_type": "markdown",
      "metadata": {
        "id": "view-in-github",
        "colab_type": "text"
      },
      "source": [
        "<a href=\"https://colab.research.google.com/github/jonty-s/planets/blob/master/solver.ipynb\" target=\"_parent\"><img src=\"https://colab.research.google.com/assets/colab-badge.svg\" alt=\"Open In Colab\"/></a>"
      ]
    },
    {
      "cell_type": "code",
      "execution_count": 5,
      "metadata": {
        "id": "ZlPUBSdDBReQ"
      },
      "outputs": [],
      "source": [
        "import numpy as np\n"
      ]
    },
    {
      "cell_type": "code",
      "source": [
        "w0=1\n",
        "L=1\n",
        "N=5\n",
        "mesh=np.linspace(0,L,num=N)\n",
        "delta=L/(N-1)\n",
        "X=np.linspace(0,L,num=N)\n",
        "Y=0.5*np.ones((1,N))\n",
        "fr=np.ones((1,N))\n",
        "fi=np.zeros((1,N))\n",
        "k=1"
      ],
      "metadata": {
        "id": "z7O2eKajEbX0"
      },
      "execution_count": 6,
      "outputs": []
    },
    {
      "cell_type": "code",
      "source": [
        "#finds the discrete derivative of an array arr with step size stepsize\n",
        "def diff(arr,stepsize):\n",
        "  n=len(arr)\n",
        "  d=np.zeros(n)\n",
        "  if n==1:\n",
        "    raise ValueError(\"Can't take a derivative at a single point\")\n",
        "  elif n==2:\n",
        "    d=[(arr[1]-arr[0])/stepsize,(-arr[0]+arr[1])/stepsize]\n",
        "    return d\n",
        "  else:\n",
        "    d[0]=(-arr[2]/2+2*arr[1]-3*arr[0]/2)/stepsize\n",
        "    for x in range(1,n-1):\n",
        "      d[x]= (arr[x+1]-arr[x-1])/(2*stepsize)\n",
        "    d[-1]=(arr[-3]/2-2*arr[-2]+3*arr[-1]/2)/stepsize\n",
        "    return d\n",
        "\n",
        "#defines a useful function we call G, which is part of g\n",
        "def G(k,w,z):\n",
        "  x=1/(np.exp(1j*k*z)-np.exp(1j*k*w))\n",
        "  return x\n",
        "\n",
        "#defines a useful function we call g\n",
        "def g(k,z,w):\n",
        "  x=G(k,-z,w)*G(k,-z,-w)-G(k,z,w)*G(k,z,-w)\n",
        "  return x\n",
        "\n",
        "#define the k derivative of g\n",
        "def g_k(k,z,w):\n",
        "  x=(1j*z*np.exp(-1j*k*z)+1j*w*np.exp(1j*k*w))*(G(k,-z,w)**2)*G(k,-z,-w) - (-1j*z*np.exp(-1j*k*z)+1j*w*np.exp(-1j*k*w))*G(k,-z,w)*(G(k,-z,-w)**2) + (1j*z*np.exp(1j*k*z)-1j*w*np.exp(1j*k*w))*(G(k,z,w)**2)*G(k,z,-w) + (1j*z*np.exp(1j*k*z)+1j*w*np.exp(-1j*k*w))*G(k,z,w)*(G(k,z,-w)**2)\n",
        "  return x\n",
        "\n",
        "#define the z derivative of g\n",
        "def g_z(k,z,w):\n",
        "  x=1j*k*np.exp(-1j*k*z)*(G(k,-z,w)**2)*G(k,-z,-w) + 1j*k*np.exp(-1j*k*z)*G(k,-z,w)*(G(k,-z,-w)**2) + 1j*k*np.exp(1j*k*z)*(G(k,z,w)**2)*G(k,z,-w) + 1j*k*np.exp(1j*k*z)*G(k,z,w)*(G(k,z,-w)**2)\n",
        "  return x\n",
        "\n",
        "#define the w derivative of g\n",
        "def g_w(k,z,w):\n",
        "  x=1j*k*np.exp(1j*k*w)*(G(k,-z,w)**2)*G(k,-z,-w) - 1j*k*np.exp(-1j*k*w)*G(k,-z,w)*(G(k,-z,-w)**2) - 1j*k*np.exp(1j*k*w)*(G(k,z,w)**2)*G(k,z,-w) + 1j*k*np.exp(-1j*k*w)*G(k,z,w)*(G(k,z,-w)**2)\n",
        "  return x\n"
      ],
      "metadata": {
        "id": "cZDkmtQtDjjX"
      },
      "execution_count": 10,
      "outputs": []
    },
    {
      "cell_type": "code",
      "source": [
        "#first equation we want to be zero is an integral equation\n",
        "#define the integrand at non-end points\n",
        "def I(k,Fr,Fi,Xnminus,Xn,Xnplus,Xj,Xjplus,Ynminus,Yn,Ynplus,Yj,Yjplus):\n",
        "  w=(Xj+Xjplus+1j*(Yj+Yjplus))/2\n",
        "  firstbit = (Fr+1j*Fi)*(g(k,1j-Xn-1j*Yn,w-1j)-g(k,Xn+1j*Yn,w))*(Xnplus-Xnminus+1j*(Ynplus-Ynminus))/(2*delta)\n",
        "  secondbit = (Fr-1j*Fi)*(g(k,1j+Xn-1j*Yn,w-1j)-g(k,-Xn+1j*Yn,w))*(Xnplus-Xnminus-1j*(Ynplus-Ynminus))/(2*delta)\n",
        "  thirdbit = Yn*g(k,1j-Xn-1j*Yn,w-1j)*(Xnplus-Xnminus+1j*(Ynplus-Ynminus))/(2*delta)\n",
        "  return firstbit+secondbit+thirdbit\n",
        "\n",
        "#define the integrand at the start point\n",
        "def Istart(k,Fr,Fi,X0,X1,X2,Xj,Xjplus,Y0,Y1,Y2,Yj,Yjplus):\n",
        "  w=(Xj+Xjplus+1j*(Yj+Yjplus))/2\n",
        "  firstbit = (Fr+1j*Fi)*(g(k,1j-X0-1j*Y0,w-1j)-g(k,X0+1j*Y0,w))*(-X2+4*X1-3*X0)+1j*(-Y2+4*Y1-3*Y0)/(2*delta)\n",
        "  secondbit = (Fr-1j*Fi)*(g(k,1j+X0-1j*Y0,w-1j)-g(k,-X0+1j*Y0,w))*(-X2+4*X1-3*X0)-1j*(-Y2+4*Y1-3*Y0)/(2*delta)\n",
        "  thirdbit = Y0*g(k,1j-X0-1j*Y0,w-1j)*(-X2+4*X1-3*X0)+1j*(-Y2+4*Y1-3*Y0)/(2*delta)\n",
        "  return firstbit+secondbit+thirdbit\n",
        "\n",
        "#define the integrand at the endpoint\n",
        "def Iend(k,Fr,Fi,Xlast,X2ndlast,X3rdlast,Xj,Xjplus,Ylast,Y2ndlast,Ythirdlast,Yj,Yjplus):\n",
        "  return -Istart(k,Fr,Fi,Xlast,X2ndlast,X3rdlast,Xj,Xjplus,Ylast,Y2ndlast,Ythirdlast,Yj,Yjplus)"
      ],
      "metadata": {
        "id": "9gWsSlhrP-jS"
      },
      "execution_count": 8,
      "outputs": []
    },
    {
      "cell_type": "code",
      "source": [
        "#create jacobian of the system\n",
        "#the variables are ordered fr[0],...,fr[N-1],fi[0],...,f1[N-1],X[0],...,X[N-1],Y[0],...,Y[N-1],k\n",
        "#the first 2N-2 equations we want to solve are the integral equations\n",
        "J=np.zeros((4*N+1,4*N+1))\n",
        "#first we add the contributions from the frn etc\n",
        "for j in range(N-1):\n",
        "  for n in range(N-1):\n",
        "    J[j][n]=J[j,n]+\n",
        "\n",
        "\n",
        "\n",
        "\n"
      ],
      "metadata": {
        "colab": {
          "base_uri": "https://localhost:8080/"
        },
        "id": "TbPJy0jhCBO2",
        "outputId": "640ed705-89ca-479d-d47b-23307855cdfc"
      },
      "execution_count": 12,
      "outputs": [
        {
          "output_type": "stream",
          "name": "stdout",
          "text": [
            "[[0. 0. 0.]\n",
            " [0. 0. 0.]\n",
            " [0. 0. 0.]]\n"
          ]
        }
      ]
    },
    {
      "cell_type": "code",
      "source": [
        "M=[[1,2,3],[4,5,6]]\n",
        "print(M[0][1])"
      ],
      "metadata": {
        "colab": {
          "base_uri": "https://localhost:8080/"
        },
        "id": "aRfN-ZrCHpOx",
        "outputId": "337bd045-c826-4155-a45f-8f3ce4598606"
      },
      "execution_count": 20,
      "outputs": [
        {
          "output_type": "stream",
          "name": "stdout",
          "text": [
            "2\n"
          ]
        }
      ]
    }
  ]
}